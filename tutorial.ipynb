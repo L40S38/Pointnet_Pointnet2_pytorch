{
 "cells": [
  {
   "cell_type": "code",
   "execution_count": null,
   "metadata": {},
   "outputs": [],
   "source": [
    "# Install\n",
    "# !conda create -n pointnet python==3.7\n",
    "# !conda activate pointnet\n",
    "# !conda install pytorch==1.6.0 cudatoolkit=10.1 -c pytorch\n",
    "# !conda install -c conda-forge tqdm"
   ]
  },
  {
   "cell_type": "code",
   "execution_count": null,
   "metadata": {},
   "outputs": [],
   "source": [
    "# Data Download\n",
    "# !git clone git clone https://github.com/L40S38/Pointnet_Pointnet2_pytorch       \n",
    "# !cd Pointnet_Pointnet2_pytorch\n",
    "# !mkdir data                     \n",
    "# !cd data              "
   ]
  },
  {
   "cell_type": "markdown",
   "metadata": {},
   "source": [
    "# Classification"
   ]
  },
  {
   "cell_type": "code",
   "execution_count": null,
   "metadata": {},
   "outputs": [],
   "source": [
    "# !wget https://shapenet.cs.stanford.edu/media/modelnet40_normal_resampled.zip --no-check-certificate\n",
    "# !unzip modelnet40_normal_resampled.zip"
   ]
  },
  {
   "cell_type": "code",
   "execution_count": null,
   "metadata": {},
   "outputs": [],
   "source": [
    "# run the code below when using GPU\n",
    "# ## e.g., pointnet2_ssg without normal features\n",
    "# !python train_classification.py --model pointnet2_cls_ssg --log_dir pointnet2_cls_ssg --num_category 10\n",
    "# !python test_classification.py --log_dir pointnet2_cls_ssg --num_category 10 "
   ]
  },
  {
   "cell_type": "code",
   "execution_count": null,
   "metadata": {},
   "outputs": [],
   "source": [
    "# run the code below when using CPU\n",
    "# ## e.g., pointnet2_ssg without normal features\n",
    "!python train_classification.py --model pointnet2_cls_ssg --log_dir pointnet2_cls_ssg --num_category 10 --use_cpu\n",
    "!python test_classification.py --log_dir pointnet2_cls_ssg --num_category 10 --use_cpu"
   ]
  },
  {
   "cell_type": "code",
   "execution_count": null,
   "metadata": {},
   "outputs": [],
   "source": [
    "## e.g., pointnet2_ssg with normal features\n",
    "# !python train_classification.py --model pointnet2_cls_ssg --use_normals --log_dir pointnet2_cls_ssg_normal\n",
    "# !python test_classification.py --use_normals --log_dir pointnet2_cls_ssg_normal\n",
    "\n",
    "## e.g., pointnet2_ssg with uniform sampling\n",
    "# !python train_classification.py --model pointnet2_cls_ssg --use_uniform_sample --log_dir pointnet2_cls_ssg_fps\n",
    "# !python test_classification.py --use_uniform_sample --log_dir pointnet2_cls_ssg_fps"
   ]
  },
  {
   "cell_type": "markdown",
   "metadata": {},
   "source": [
    "# Segmentation"
   ]
  },
  {
   "cell_type": "code",
   "execution_count": null,
   "metadata": {},
   "outputs": [],
   "source": [
    "# !wget https://shapenet.cs.stanford.edu/media/shapenetcore_partanno_segmentation_benchmark_v0_normal.zip --no-check-certificate"
   ]
  },
  {
   "cell_type": "code",
   "execution_count": null,
   "metadata": {},
   "outputs": [],
   "source": []
  }
 ],
 "metadata": {
  "language_info": {
   "name": "python"
  }
 },
 "nbformat": 4,
 "nbformat_minor": 2
}
